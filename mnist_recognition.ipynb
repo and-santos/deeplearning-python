{
 "cells": [
  {
   "cell_type": "markdown",
   "id": "6faaebbb",
   "metadata": {
    "id": "6faaebbb"
   },
   "source": [
    "# Deep Learning With Python"
   ]
  },
  {
   "cell_type": "markdown",
   "id": "ad03be26",
   "metadata": {
    "id": "ad03be26"
   },
   "source": [
    "## MNIST handwritten recognition"
   ]
  },
  {
   "cell_type": "code",
   "execution_count": 1,
   "id": "17589d53",
   "metadata": {
    "colab": {
     "base_uri": "https://localhost:8080/"
    },
    "id": "17589d53",
    "outputId": "ca118ab7-796a-4cb3-999d-fd84e76a3517"
   },
   "outputs": [],
   "source": [
    "from keras.datasets import mnist\n",
    "(train_images, train_labels), (test_images, test_labels) = mnist.load_data()\n",
    "# train_images, trai_labels = conjunto de treinamento da rede neural.\n",
    "# test_images, test_labels = conjunto de testes."
   ]
  },
  {
   "cell_type": "markdown",
   "id": "c92bc17e",
   "metadata": {
    "id": "c92bc17e"
   },
   "source": [
    "A imagens são decodificadas em arrays Numpy, e as legendas como array de digitos, de 0 à 9. As imagens e legendas tem uma correspondência um-a-um"
   ]
  },
  {
   "cell_type": "code",
   "execution_count": 2,
   "id": "c8a96769",
   "metadata": {
    "colab": {
     "base_uri": "https://localhost:8080/"
    },
    "id": "c8a96769",
    "outputId": "52e4e90b-870d-400b-ce84-85621242a2bf"
   },
   "outputs": [
    {
     "data": {
      "text/plain": [
       "(60000, 28, 28)"
      ]
     },
     "execution_count": 2,
     "metadata": {},
     "output_type": "execute_result"
    }
   ],
   "source": [
    "train_images.shape"
   ]
  },
  {
   "cell_type": "code",
   "execution_count": 3,
   "id": "d6a65f8f",
   "metadata": {
    "colab": {
     "base_uri": "https://localhost:8080/"
    },
    "id": "d6a65f8f",
    "outputId": "fa1f6dbf-8ea5-4237-8d49-0ed05b775d93"
   },
   "outputs": [
    {
     "data": {
      "text/plain": [
       "60000"
      ]
     },
     "execution_count": 3,
     "metadata": {},
     "output_type": "execute_result"
    }
   ],
   "source": [
    "len(train_labels)"
   ]
  },
  {
   "cell_type": "code",
   "execution_count": 5,
   "id": "d0fb9231",
   "metadata": {
    "colab": {
     "base_uri": "https://localhost:8080/"
    },
    "id": "d0fb9231",
    "outputId": "dc8854d2-b9b7-472a-ec23-6f903bb515e7"
   },
   "outputs": [
    {
     "data": {
      "text/plain": [
       "array([5, 0, 4, ..., 5, 6, 8], dtype=uint8)"
      ]
     },
     "execution_count": 5,
     "metadata": {},
     "output_type": "execute_result"
    }
   ],
   "source": [
    "train_labels"
   ]
  },
  {
   "cell_type": "markdown",
   "id": "fbd5a597",
   "metadata": {
    "id": "fbd5a597"
   },
   "source": [
    "### The network architecture"
   ]
  },
  {
   "cell_type": "code",
   "execution_count": 7,
   "id": "4de83236",
   "metadata": {
    "id": "4de83236"
   },
   "outputs": [],
   "source": [
    "from keras import models\n",
    "from keras import layers\n",
    "\n",
    "network = models.Sequential()\n",
    "network.add(layers.Dense(512, activation='relu', input_shape=(28 * 28,)))\n",
    "network.add(layers.Dense(10, activation='softmax'))"
   ]
  },
  {
   "cell_type": "markdown",
   "id": "1e18c0e6",
   "metadata": {
    "id": "1e18c0e6"
   },
   "source": [
    "### The compilation step"
   ]
  },
  {
   "cell_type": "code",
   "execution_count": 8,
   "id": "770b3ba2",
   "metadata": {
    "id": "770b3ba2"
   },
   "outputs": [],
   "source": [
    "network.compile(optimizer='rmsprop',\n",
    "               loss='categorical_crossentropy',\n",
    "               metrics=['accuracy'])"
   ]
  },
  {
   "cell_type": "markdown",
   "id": "14625d27",
   "metadata": {
    "id": "14625d27"
   },
   "source": [
    "Antes do treinamento da rede, vamos pré-processar os dados remodulando para a forma que a rede neural espera e escalar de forma que todos os valores estejam no intervalo [0, 1]."
   ]
  },
  {
   "cell_type": "markdown",
   "id": "58c438e6",
   "metadata": {
    "id": "58c438e6"
   },
   "source": [
    "### Preparados os dados de imagens"
   ]
  },
  {
   "cell_type": "markdown",
   "id": "6284182c",
   "metadata": {
    "id": "6284182c"
   },
   "source": [
    "Basicamente, queremos transforma o array 2D que corresponde as imagens de treinamento para arrays 1D, para serem inseridos na rede neural a ser treinada"
   ]
  },
  {
   "cell_type": "code",
   "execution_count": 9,
   "id": "139cd78e",
   "metadata": {
    "colab": {
     "base_uri": "https://localhost:8080/",
     "height": 282
    },
    "id": "139cd78e",
    "outputId": "cf028815-1145-4823-ecf7-a20568bd00a7"
   },
   "outputs": [
    {
     "data": {
      "text/plain": [
       "<matplotlib.image.AxesImage at 0x7f5cc826d5e0>"
      ]
     },
     "execution_count": 9,
     "metadata": {},
     "output_type": "execute_result"
    },
    {
     "data": {
      "image/png": "[encoded data removed]",
      "text/plain": [
       "<Figure size 432x288 with 1 Axes>"
      ]
     },
     "metadata": {
      "needs_background": "light"
     },
     "output_type": "display_data"
    }
   ],
   "source": [
    "import matplotlib.pyplot as plt\n",
    "plt.imshow(train_images[2,:,:], cmap='gray')"
   ]
  },
  {
   "cell_type": "code",
   "execution_count": 10,
   "id": "59f773f6",
   "metadata": {
    "id": "59f773f6"
   },
   "outputs": [],
   "source": [
    "train_images = train_images.reshape((60000, 28 * 28))\n",
    "train_images = train_images.astype('float32') / 255 ## colocando os valores do array dentro do intervalo [0, 1]\n",
    "\n",
    "test_images = test_images.reshape((10000, 28 * 28))\n",
    "test_images = test_images.astype('float32') / 255"
   ]
  },
  {
   "cell_type": "markdown",
   "id": "92a9b46c",
   "metadata": {
    "id": "92a9b46c"
   },
   "source": [
    "### Preparing the labels"
   ]
  },
  {
   "cell_type": "code",
   "execution_count": 11,
   "id": "18cbe12b",
   "metadata": {
    "colab": {
     "base_uri": "https://localhost:8080/"
    },
    "id": "18cbe12b",
    "outputId": "7d9e7e6a-695a-4943-990f-5ce5a53c83c5"
   },
   "outputs": [
    {
     "data": {
      "text/plain": [
       "10000"
      ]
     },
     "execution_count": 11,
     "metadata": {},
     "output_type": "execute_result"
    }
   ],
   "source": [
    "from tensorflow.keras.utils import to_categorical\n",
    "train_labels = to_categorical(train_labels)\n",
    "test_labels = to_categorical(test_labels)\n",
    "test_labels.shape[0]"
   ]
  },
  {
   "cell_type": "markdown",
   "id": "07714106",
   "metadata": {
    "id": "07714106"
   },
   "source": [
    "Estamos prontos para treinar a rede neural, no qual Keras é feito via uma chall para o método fit da rede neural. nos 'fitamos' o modelo ao dados de treinamento:"
   ]
  },
  {
   "cell_type": "code",
   "execution_count": 12,
   "id": "e89cea2a",
   "metadata": {
    "colab": {
     "base_uri": "https://localhost:8080/"
    },
    "id": "e89cea2a",
    "outputId": "7a6b3398-5c38-44b9-d419-663e71101760"
   },
   "outputs": [
    {
     "name": "stderr",
     "output_type": "stream",
     "text": [
      "2021-10-03 21:11:13.144135: I tensorflow/compiler/mlir/mlir_graph_optimization_pass.cc:116] None of the MLIR optimization passes are enabled (registered 2)\n",
      "2021-10-03 21:11:13.166282: I tensorflow/core/platform/profile_utils/cpu_utils.cc:112] CPU Frequency: 3600000000 Hz\n"
     ]
    },
    {
     "name": "stdout",
     "output_type": "stream",
     "text": [
      "Epoch 1/5\n",
      "469/469 [==============================] - 2s 3ms/step - loss: 0.4306 - accuracy: 0.8725\n",
      "Epoch 2/5\n",
      "469/469 [==============================] - 2s 4ms/step - loss: 0.1078 - accuracy: 0.9675\n",
      "Epoch 3/5\n",
      "469/469 [==============================] - 2s 4ms/step - loss: 0.0671 - accuracy: 0.9800\n",
      "Epoch 4/5\n",
      "469/469 [==============================] - 2s 4ms/step - loss: 0.0485 - accuracy: 0.9853\n",
      "Epoch 5/5\n",
      "469/469 [==============================] - 2s 4ms/step - loss: 0.0357 - accuracy: 0.9891\n"
     ]
    },
    {
     "data": {
      "text/plain": [
       "<tensorflow.python.keras.callbacks.History at 0x7f5cdb0412e0>"
      ]
     },
     "execution_count": 12,
     "metadata": {},
     "output_type": "execute_result"
    }
   ],
   "source": [
    "network.fit(train_images, train_labels,epochs=5, batch_size=128)"
   ]
  },
  {
   "cell_type": "markdown",
   "id": "eS40TSXHmIgT",
   "metadata": {
    "id": "eS40TSXHmIgT"
   },
   "source": [
    "Duas quantidades são mostradas durante o treinamento: a perda da rede neural durante o treinamento, e a precisão da rede ao longo do treinamento."
   ]
  },
  {
   "cell_type": "code",
   "execution_count": 13,
   "id": "WgLirGj-maDH",
   "metadata": {
    "colab": {
     "base_uri": "https://localhost:8080/"
    },
    "id": "WgLirGj-maDH",
    "outputId": "d6b98efe-b041-4620-c5b6-7c0ecb5d7a0c"
   },
   "outputs": [
    {
     "name": "stdout",
     "output_type": "stream",
     "text": [
      "313/313 [==============================] - 0s 872us/step - loss: 0.0733 - accuracy: 0.9769\n",
      "test_acc: 0.9768999814987183\n"
     ]
    }
   ],
   "source": [
    "test_loss, test_acc = network.evaluate(test_images, test_labels)\n",
    "print('test_acc:', test_acc)"
   ]
  }
 ],
 "metadata": {
  "colab": {
   "collapsed_sections": [],
   "name": "mnist_recognition.ipynb",
   "provenance": []
  },
  "kernelspec": {
   "display_name": "Python 3 (ipykernel)",
   "language": "python",
   "name": "python3"
  },
  "language_info": {
   "codemirror_mode": {
    "name": "ipython",
    "version": 3
   },
   "file_extension": ".py",
   "mimetype": "text/x-python",
   "name": "python",
   "nbconvert_exporter": "python",
   "pygments_lexer": "ipython3",
   "version": "3.8.11"
  }
 },
 "nbformat": 4,
 "nbformat_minor": 5
}
